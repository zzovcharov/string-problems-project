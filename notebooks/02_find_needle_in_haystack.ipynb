{
 "cells": [
  {
   "metadata": {},
   "cell_type": "markdown",
   "source": [
    "## Problem 2: Find the Index of the First Occurrence\n",
    "\n",
    "Given two strings `needle` and `haystack`, return the index of the first occurrence\n",
    "of `needle` in `haystack`, or `-1` if `needle` is not part of `haystack`.\n",
    "\n",
    "**Examples**\n",
    "- Input: `haystack = \"sadbutsad\"`, `needle = \"sad\"` → Output: `0`\n",
    "- Input: `haystack = \"leetcode\"`, `needle = \"leeto\"` → Output: `-1`\n",
    "\n",
    "**Constraints**\n",
    "- 1 ≤ len(haystack), len(needle) ≤ 10⁴\n",
    "- Both consist of lowercase English letters.\n"
   ],
   "id": "a0a69d9ae03c3102"
  },
  {
   "metadata": {},
   "cell_type": "markdown",
   "source": [
    "### 🧠 Approach\n",
    "1. Compute lengths of `needle` (`n`) and `haystack` (`h`).\n",
    "2. Loop over each possible start index `i` in `haystack` where\n",
    "   a substring of length `n` can fit.\n",
    "3. Compare `haystack[i:i+n]` with `needle`.\n",
    "4. Return `i` on the first match; otherwise return `-1`.\n"
   ],
   "id": "d2ac4e2e2f4e18a4"
  },
  {
   "metadata": {
    "ExecuteTime": {
     "end_time": "2025-10-11T19:13:19.668696Z",
     "start_time": "2025-10-11T19:13:19.664570Z"
    }
   },
   "cell_type": "code",
   "source": [
    "class Solution:\n",
    "    def strStr(self, haystack, needle):\n",
    "        n = len(needle)\n",
    "        h = len(haystack)\n",
    "\n",
    "        for i in range(h - n + 1):\n",
    "            if haystack[i:i + n] == needle:\n",
    "                return i\n",
    "        return -1\n"
   ],
   "id": "26239dbd5bf5d6ad",
   "outputs": [],
   "execution_count": 6
  },
  {
   "metadata": {
    "ExecuteTime": {
     "end_time": "2025-10-11T19:13:19.685571Z",
     "start_time": "2025-10-11T19:13:19.679713Z"
    }
   },
   "cell_type": "code",
   "source": [
    "s = Solution()\n",
    "print(s.strStr(\"sadbutsad\", \"sad\"))   # Expected: 0\n",
    "print(s.strStr(\"leetcode\", \"leeto\"))  # Expected: -1\n",
    "print(s.strStr(\"mississippi\", \"issi\")) # Expected: 1\n",
    "print(s.strStr(\"hello\", \"ll\"))        # Expected: 2\n",
    "print(s.strStr(\"aaaaa\", \"bba\"))       # Expected: -1\n"
   ],
   "id": "6e49b587e6b37428",
   "outputs": [
    {
     "name": "stdout",
     "output_type": "stream",
     "text": [
      "0\n",
      "-1\n",
      "1\n",
      "2\n",
      "-1\n"
     ]
    }
   ],
   "execution_count": 7
  }
 ],
 "metadata": {
  "kernelspec": {
   "display_name": "Python 3",
   "language": "python",
   "name": "python3"
  },
  "language_info": {
   "codemirror_mode": {
    "name": "ipython",
    "version": 2
   },
   "file_extension": ".py",
   "mimetype": "text/x-python",
   "name": "python",
   "nbconvert_exporter": "python",
   "pygments_lexer": "ipython2",
   "version": "2.7.6"
  }
 },
 "nbformat": 4,
 "nbformat_minor": 5
}
