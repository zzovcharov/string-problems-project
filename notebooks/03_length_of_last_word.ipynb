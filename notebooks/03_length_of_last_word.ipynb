{
 "cells": [
  {
   "metadata": {},
   "cell_type": "markdown",
   "source": [
    "## Problem 3: Length of the Last Word\n",
    "\n",
    "Given a string `s` consisting of words and spaces, return the **length of the last word** in the string.\n",
    "A word is defined as a maximal substring consisting of non-space characters only.\n",
    "\n",
    "**Examples**\n",
    "- Input: `s = \"Hello World\"` → Output: `5`\n",
    "  (The last word is \"World\", which has length 5.)\n",
    "- Input: `s = \"   fly me   to   the moon  \"` → Output: `4`\n",
    "  (The last word is \"moon\", which has length 4.)\n",
    "- Input: `s = \"luffy is still joyboy\"` → Output: `6`\n",
    "  (The last word is \"joyboy\", which has length 6.)\n",
    "\n",
    "**Constraints**\n",
    "- 1 ≤ `len(s)` ≤ 10⁴\n",
    "- `s` consists of only English letters and spaces `' '`.\n",
    "- There will be **at least one word** in `s`.\n"
   ],
   "id": "2f557e65de9f5a68"
  },
  {
   "metadata": {},
   "cell_type": "markdown",
   "source": [
    "### Approach\n",
    "1. Use Python’s `.split()` to break the string into a list of words (it automatically removes extra spaces).\n",
    "2. Access the last word with `[-1]`.\n",
    "3. Return its length using `len()`.\n"
   ],
   "id": "5ea85d2edb99517d"
  },
  {
   "metadata": {
    "ExecuteTime": {
     "end_time": "2025-10-13T19:42:36.711048Z",
     "start_time": "2025-10-13T19:42:36.672008Z"
    }
   },
   "cell_type": "code",
   "source": [
    "class Solution:\n",
    "    def lengthOfLastWord(self, s):\n",
    "        k = s.split()\n",
    "        return len(k[-1])\n"
   ],
   "id": "9c52130baaf24a98",
   "outputs": [],
   "execution_count": 3
  },
  {
   "metadata": {
    "ExecuteTime": {
     "end_time": "2025-10-13T19:42:36.741873Z",
     "start_time": "2025-10-13T19:42:36.735819Z"
    }
   },
   "cell_type": "code",
   "source": [
    "s = Solution()\n",
    "print(s.lengthOfLastWord(\"Hello World\"))                  # Expected: 5\n",
    "print(s.lengthOfLastWord(\"   fly me   to   the moon  \"))  # Expected: 4\n",
    "print(s.lengthOfLastWord(\"luffy is still joyboy\"))        # Expected: 6\n",
    "print(s.lengthOfLastWord(\"a\"))                            # Expected: 1\n",
    "print(s.lengthOfLastWord(\"day \"))                         # Expected: 3\n"
   ],
   "id": "b0d45dfc1120349c",
   "outputs": [
    {
     "name": "stdout",
     "output_type": "stream",
     "text": [
      "5\n",
      "4\n",
      "6\n",
      "1\n",
      "3\n"
     ]
    }
   ],
   "execution_count": 4
  }
 ],
 "metadata": {
  "kernelspec": {
   "display_name": "Python 3",
   "language": "python",
   "name": "python3"
  },
  "language_info": {
   "codemirror_mode": {
    "name": "ipython",
    "version": 2
   },
   "file_extension": ".py",
   "mimetype": "text/x-python",
   "name": "python",
   "nbconvert_exporter": "python",
   "pygments_lexer": "ipython2",
   "version": "2.7.6"
  }
 },
 "nbformat": 4,
 "nbformat_minor": 5
}
