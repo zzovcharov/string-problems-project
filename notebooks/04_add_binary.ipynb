{
 "cells": [
  {
   "metadata": {},
   "cell_type": "markdown",
   "source": [
    "## Problem 4: Add Binary\n",
    "\n",
    "Given two binary strings `a` and `b`, return their **sum** as a binary string.\n",
    "\n",
    "**Examples**\n",
    "- Input: `a = \"11\"`, `b = \"1\"` → Output: `\"100\"`\n",
    "- Input: `a = \"1010\"`, `b = \"1011\"` → Output: `\"10101\"`\n",
    "\n",
    "**Constraints**\n",
    "- Each input string consists only of `'0'` and `'1'`.\n",
    "- Strings `a` and `b` are non-empty and may have different lengths.\n"
   ],
   "id": "999fcf333b604e93"
  },
  {
   "metadata": {},
   "cell_type": "markdown",
   "source": [
    "### Approach\n",
    "1. Convert both binary strings to integers using `int(value, 2)`.\n",
    "2. Add them normally as integers.\n",
    "3. Convert the result back to binary using `bin(sum)[2:]`, where `[2:]` removes the `'0b'` prefix.\n",
    "4. Return the resulting binary string.\n"
   ],
   "id": "81ad5e0015c1bb01"
  },
  {
   "metadata": {
    "ExecuteTime": {
     "end_time": "2025-10-11T19:31:15.176706Z",
     "start_time": "2025-10-11T19:31:15.170801Z"
    }
   },
   "cell_type": "code",
   "source": [
    "class Solution:\n",
    "    def addBinary(self, a, b):\n",
    "        num_a = int(a, 2)\n",
    "        num_b = int(b, 2)\n",
    "        total = num_a + num_b\n",
    "        return bin(total)[2:]\n"
   ],
   "id": "8cd7ea9d990c404",
   "outputs": [],
   "execution_count": 1
  },
  {
   "metadata": {
    "ExecuteTime": {
     "end_time": "2025-10-11T19:31:15.187439Z",
     "start_time": "2025-10-11T19:31:15.180962Z"
    }
   },
   "cell_type": "code",
   "source": [
    "s = Solution()\n",
    "print(s.addBinary(\"11\", \"1\"))        # Expected: \"100\"\n",
    "print(s.addBinary(\"1010\", \"1011\"))   # Expected: \"10101\"\n",
    "print(s.addBinary(\"0\", \"0\"))         # Expected: \"0\"\n",
    "print(s.addBinary(\"111\", \"1\"))       # Expected: \"1000\"\n",
    "print(s.addBinary(\"100\", \"110010\"))  # Expected: \"110110\"\n"
   ],
   "id": "f867950ff3419bf4",
   "outputs": [
    {
     "name": "stdout",
     "output_type": "stream",
     "text": [
      "100\n",
      "10101\n",
      "0\n",
      "1000\n",
      "110110\n"
     ]
    }
   ],
   "execution_count": 2
  }
 ],
 "metadata": {
  "kernelspec": {
   "display_name": "Python 3",
   "language": "python",
   "name": "python3"
  },
  "language_info": {
   "codemirror_mode": {
    "name": "ipython",
    "version": 2
   },
   "file_extension": ".py",
   "mimetype": "text/x-python",
   "name": "python",
   "nbconvert_exporter": "python",
   "pygments_lexer": "ipython2",
   "version": "2.7.6"
  }
 },
 "nbformat": 4,
 "nbformat_minor": 5
}
