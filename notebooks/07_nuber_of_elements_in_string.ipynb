{
 "cells": [
  {
   "metadata": {},
   "cell_type": "markdown",
   "source": [
    "## Number of Segments in a String\n",
    "\n",
    "Given a string s, return the number of segments in the string.\n",
    "\n",
    "A segment is defined to be a contiguous sequence of non-space characters.\n",
    "\n",
    "\n",
    "\n",
    "Example 1:\n",
    "\n",
    "Input: s = \"Hello, my name is John\"\n",
    "Output: 5\n",
    "Explanation: The five segments are [\"Hello,\", \"my\", \"name\", \"is\", \"John\"]\n",
    "Example 2:\n",
    "\n",
    "Input: s = \"Hello\"\n",
    "Output: 1\n",
    "\n",
    "\n",
    "Constraints:\n",
    "\n",
    "0 <= s.length <= 300\n",
    "s consists of lowercase and uppercase English letters, digits, or one of the following characters \"!@#$%^&*()_+-=',.:\".\n",
    "The only space character in s is ' '."
   ],
   "id": "57a01ce4b9a71b01"
  },
  {
   "metadata": {
    "ExecuteTime": {
     "end_time": "2025-10-13T19:50:56.986463Z",
     "start_time": "2025-10-13T19:50:56.968404Z"
    }
   },
   "cell_type": "code",
   "source": [
    "class Solution(object):\n",
    "    def countSegments(self, s):\n",
    "        \"\"\"\n",
    "        :type s: str\n",
    "        :rtype: int\n",
    "        \"\"\"\n",
    "        k = s.split()\n",
    "        return len(k)\n",
    "\n"
   ],
   "id": "c6875cf5a9cf7a83",
   "outputs": [],
   "execution_count": 2
  },
  {
   "metadata": {
    "ExecuteTime": {
     "end_time": "2025-10-13T19:51:15.678655Z",
     "start_time": "2025-10-13T19:50:56.994409Z"
    }
   },
   "cell_type": "code",
   "source": [
    "s = Solution()\n",
    "\n",
    "user_input = input(\"Enter a sentence: \")\n",
    "\n",
    "print(\"Number of segments:\", s.countSegments(user_input))\n"
   ],
   "id": "fcade34e5879f8b1",
   "outputs": [
    {
     "name": "stdout",
     "output_type": "stream",
     "text": [
      "Number of segments: 3\n"
     ]
    }
   ],
   "execution_count": 3
  }
 ],
 "metadata": {
  "kernelspec": {
   "display_name": "Python 3",
   "language": "python",
   "name": "python3"
  },
  "language_info": {
   "codemirror_mode": {
    "name": "ipython",
    "version": 2
   },
   "file_extension": ".py",
   "mimetype": "text/x-python",
   "name": "python",
   "nbconvert_exporter": "python",
   "pygments_lexer": "ipython2",
   "version": "2.7.6"
  }
 },
 "nbformat": 4,
 "nbformat_minor": 5
}
