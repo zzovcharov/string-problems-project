{
 "cells": [
  {
   "metadata": {},
   "cell_type": "markdown",
   "source": [
    "# License Key Formatting\n",
    "\n",
    "**Problem Statement**\n",
    "\n",
    "You are given a license key represented as a string `s` consisting of alphanumeric characters and dashes.\n",
    "The string is divided into groups by dashes.\n",
    "Given an integer `k`, reformat the string so that:\n",
    "- Each group contains exactly `k` characters (except possibly the first group, which may be shorter),\n",
    "- All letters are uppercase,\n",
    "- Groups are separated by a single dash `-`.\n",
    "\n",
    "**Example 1:**\n",
    "\n",
    "Input: s = \"5F3Z-2e-9-w\", k = 4\n",
    "Output: \"5F3Z-2E9W\"\n",
    "Explanation: The string s has been split into two parts, each part has 4 characters.\n",
    "Note that the two extra dashes are not needed and can be removed.\n",
    "\n",
    "**Example 2:**\n",
    "\n",
    "Input: s = \"2-5g-3-J\", k = 2\n",
    "Output: \"2-5G-3J\"\n",
    "Explanation: The string s has been split into three parts, each part has 2 characters except the first part as it could be shorter as mentioned above."
   ],
   "id": "f4b91eecbe75f97c"
  },
  {
   "metadata": {},
   "cell_type": "markdown",
   "source": [
    "## Approach\n",
    "\n",
    "1. **Clean and normalize:**\n",
    "   Remove all dashes and convert all letters to uppercase.\n",
    "\n",
    "2. **Find first group length:**\n",
    "   The first group can be shorter, so we calculate:\n",
    "\n",
    "- If the total length `n` divides evenly by `k`, we start with a full group.\n",
    "- Otherwise, the first group has `n % k` characters.\n",
    "\n",
    "3. **Slice into chunks:**\n",
    "Use a loop to take groups of size `k` starting from the `first` index.\n",
    "\n",
    "4. **Join with dashes:**\n",
    "Combine all groups with `\"-\".join()` to form the formatted key.\n",
    "\n",
    "5. **Return the result.**\n"
   ],
   "id": "6533ea61ea5f58e8"
  },
  {
   "metadata": {
    "ExecuteTime": {
     "end_time": "2025-10-18T17:37:49.581076Z",
     "start_time": "2025-10-18T17:37:49.566975Z"
    }
   },
   "cell_type": "code",
   "source": [
    "class Solution(object):\n",
    "    def licenseKeyFormatting(self, s, k):\n",
    "        \"\"\"\n",
    "        :type s: str\n",
    "        :type k: int\n",
    "        :rtype: str\n",
    "        \"\"\"\n",
    "        # Step 1: clean input (remove dashes, make uppercase)\n",
    "        cleaned = s.replace(\"-\", \"\").upper()\n",
    "        n = len(cleaned)\n",
    "        if n == 0:\n",
    "            return \"\"\n",
    "\n",
    "        # Step 2: find first group length\n",
    "        first = n % k or k\n",
    "\n",
    "        # Step 3: slice into chunks\n",
    "        chunks = [cleaned[:first]]\n",
    "        for i in range(first, n, k):\n",
    "            chunks.append(cleaned[i:i+k])\n",
    "\n",
    "        # Step 4: join with dashes\n",
    "        result = \"-\".join(chunks)\n",
    "\n",
    "        return result\n"
   ],
   "id": "740d8a2f62c8e566",
   "outputs": [],
   "execution_count": 4
  },
  {
   "metadata": {
    "ExecuteTime": {
     "end_time": "2025-10-18T17:37:49.592622Z",
     "start_time": "2025-10-18T17:37:49.581076Z"
    }
   },
   "cell_type": "code",
   "source": [
    "# Test cases\n",
    "s = Solution()\n",
    "\n",
    "print(s.licenseKeyFormatting(\"5F3Z-2e-9-w\", 4))  # Expected: \"5F3Z-2E9W\"\n",
    "print(s.licenseKeyFormatting(\"2-5g-3-J\", 2))     # Expected: \"2-5G-3J\"\n",
    "print(s.licenseKeyFormatting(\"2-4A0r7-4k\", 3))   # Expected: \"24-A0R-74K\"\n",
    "print(s.licenseKeyFormatting(\"abc\", 1))          # Expected: \"A-B-C\"\n",
    "print(s.licenseKeyFormatting(\"----\", 3))         # Expected: \"\"\n"
   ],
   "id": "93a67fa6f105fb3e",
   "outputs": [
    {
     "name": "stdout",
     "output_type": "stream",
     "text": [
      "5F3Z-2E9W\n",
      "2-5G-3J\n",
      "24-A0R-74K\n",
      "A-B-C\n",
      "\n"
     ]
    }
   ],
   "execution_count": 5
  },
  {
   "metadata": {
    "ExecuteTime": {
     "end_time": "2025-10-18T17:38:05.491806Z",
     "start_time": "2025-10-18T17:37:49.612113Z"
    }
   },
   "cell_type": "code",
   "source": [
    "# Interactive test\n",
    "s_input = input(\"Enter a license key: \")\n",
    "k_input = int(input(\"Enter group size k: \"))\n",
    "\n",
    "solver = Solution()\n",
    "print(\"Formatted:\", solver.licenseKeyFormatting(s_input, k_input))\n"
   ],
   "id": "28fdabd8682dc2b",
   "outputs": [
    {
     "name": "stdout",
     "output_type": "stream",
     "text": [
      "Formatted: 24-A0R-74K\n"
     ]
    }
   ],
   "execution_count": 6
  },
  {
   "metadata": {},
   "cell_type": "markdown",
   "source": [
    "## Rubber Duck Explanation\n",
    "\n",
    "> “First I strip out all the dashes and make everything uppercase.\n",
    "> Then I see how many characters go in the *first* group — it’s the remainder of the total length divided by `k`.\n",
    "> If it divides evenly, I just start with `k`.\n",
    "> Then I chop the rest of the string into groups of size `k` and glue them together with dashes.\n",
    "> The result is a neat license key like `5F3Z-2E9W`.”\n"
   ],
   "id": "123daeafb3f9322a"
  }
 ],
 "metadata": {
  "kernelspec": {
   "display_name": "Python 3",
   "language": "python",
   "name": "python3"
  },
  "language_info": {
   "codemirror_mode": {
    "name": "ipython",
    "version": 2
   },
   "file_extension": ".py",
   "mimetype": "text/x-python",
   "name": "python",
   "nbconvert_exporter": "python",
   "pygments_lexer": "ipython2",
   "version": "2.7.6"
  }
 },
 "nbformat": 4,
 "nbformat_minor": 5
}
