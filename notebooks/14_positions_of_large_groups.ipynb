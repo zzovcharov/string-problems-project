{
 "cells": [
  {
   "metadata": {},
   "cell_type": "markdown",
   "source": [
    "# Large Group Positions\n",
    "\n",
    "## Problem\n",
    "\n",
    "Given a string `s` of lowercase English letters, consecutive equal letters form \"groups\".\n",
    "\n",
    "- Example: `s = \"abbxxxxzzy\"`\n",
    "  The groups are: `\"a\"`, `\"bb\"`, `\"xxxx\"`, `\"z\"`, `\"yy\"`.\n",
    "\n",
    "We define a **group** by an interval `[start, end]`:\n",
    "- `start` is the index of the first character in the group\n",
    "- `end` is the index of the last character in the group\n",
    "- indices are inclusive\n",
    "\n",
    "A group is considered **large** if it has length ≥ 3.\n",
    "\n",
    "### Task\n",
    "Return a list of `[start, end]` intervals for every large group in the string, sorted by starting index.\n",
    "\n",
    "### Examples\n",
    "\n",
    "**Example 1**\n",
    "Input: `s = \"abbxxxxzzy\"`\n",
    "Output: `[[3, 6]]`\n",
    "Explanation: `\"xxxx\"` is a large group from index 3 to index 6.\n",
    "\n",
    "**Example 2**\n",
    "Input: `s = \"abc\"`\n",
    "Output: `[]`\n",
    "Explanation: `\"a\"`, `\"b\"`, and `\"c\"` are all length 1.\n",
    "\n",
    "**Example 3**\n",
    "Input: `s = \"abcdddeeeeaabbbcd\"`\n",
    "Output: `[[3, 5], [6, 9], [12, 14]]`\n",
    "Explanation: `\"ddd\"`, `\"eeee\"`, `\"bbb\"` are large groups.\n"
   ],
   "id": "641b797ac073095c"
  },
  {
   "metadata": {},
   "cell_type": "markdown",
   "source": [
    "## Approach\n",
    "\n",
    "We walk through the string and detect each \"run\" (group) of the same character.\n",
    "\n",
    "We use two pointers (indices):\n",
    "- `start`: where the current group begins\n",
    "- `i`: a moving index that scans forward\n",
    "\n",
    "Algorithm:\n",
    "1. Initialize `start = 0` and `i = 0`.\n",
    "2. While `i` is inside the string:\n",
    "   - Move `i` forward while `s[i]` is the same as `s[start]`.\n",
    "     - When this stops, we know the current group ended.\n",
    "   - The current group covers indices `[start, i-1]`.\n",
    "   - If the length of that group is at least 3, save `[start, i-1]` in the result.\n",
    "   - Set `start = i` to begin tracking the next group.\n",
    "3. When we reach the end of the string, return the result.\n",
    "\n",
    "Why this works:\n",
    "- Each group is processed exactly once.\n",
    "- We never \"rewind\". We only move forward.\n",
    "- We don't need extra data structures beyond a result list.\n"
   ],
   "id": "2e4a6096d81ab205"
  },
  {
   "metadata": {
    "ExecuteTime": {
     "end_time": "2025-10-24T12:23:48.277074Z",
     "start_time": "2025-10-24T12:23:48.268872Z"
    }
   },
   "cell_type": "code",
   "source": [
    "class Solution(object):\n",
    "    def largeGroupPositions(self, s):\n",
    "        r = []\n",
    "        n = len(s)\n",
    "        start = 0\n",
    "        i = 0\n",
    "\n",
    "        while i < n:\n",
    "            while i < n and s[i] == s[start]:\n",
    "                i += 1\n",
    "\n",
    "            length = i - start\n",
    "            if length >= 3:\n",
    "                r.append([start, i - 1])\n",
    "\n",
    "            start = i\n",
    "\n",
    "        return r\n"
   ],
   "id": "4fdf7df39aa0a809",
   "outputs": [],
   "execution_count": 1
  },
  {
   "metadata": {
    "ExecuteTime": {
     "end_time": "2025-10-24T12:23:53.491850Z",
     "start_time": "2025-10-24T12:23:48.291634Z"
    }
   },
   "cell_type": "code",
   "source": [
    "sol = Solution()\n",
    "\n",
    "user_s = input(\"Enter a lowercase string: \")\n",
    "\n",
    "print(\"Input string:\", user_s)\n",
    "print(\"Large group positions:\", sol.largeGroupPositions(user_s))\n"
   ],
   "id": "ec56c9bde4d2f6db",
   "outputs": [
    {
     "name": "stdout",
     "output_type": "stream",
     "text": [
      "Input string: abcdddeeeeaabbbcd\n",
      "Large group positions: [[3, 5], [6, 9], [12, 14]]\n"
     ]
    }
   ],
   "execution_count": 2
  },
  {
   "metadata": {
    "ExecuteTime": {
     "end_time": "2025-10-24T12:23:58.551008Z",
     "start_time": "2025-10-24T12:23:53.631643Z"
    }
   },
   "cell_type": "code",
   "source": [
    "def show_groups(s):\n",
    "    i = 0\n",
    "    start = 0\n",
    "    print(\"String:\", s)\n",
    "    while i < len(s):\n",
    "        while i < len(s) and s[i] == s[start]:\n",
    "            i += 1\n",
    "        print(f\"group '{s[start:i]}' at [{start}, {i-1}], length={i-start}\")\n",
    "        start = i\n",
    "\n",
    "test_string = input(\"Enter a string to visualize all groups: \")\n",
    "show_groups(test_string)\n"
   ],
   "id": "ad9dd76f19225479",
   "outputs": [
    {
     "name": "stdout",
     "output_type": "stream",
     "text": [
      "String: abcdddeeeeaabbbcd\n",
      "group 'a' at [0, 0], length=1\n",
      "group 'b' at [1, 1], length=1\n",
      "group 'c' at [2, 2], length=1\n",
      "group 'ddd' at [3, 5], length=3\n",
      "group 'eeee' at [6, 9], length=4\n",
      "group 'aa' at [10, 11], length=2\n",
      "group 'bbb' at [12, 14], length=3\n",
      "group 'c' at [15, 15], length=1\n",
      "group 'd' at [16, 16], length=1\n"
     ]
    }
   ],
   "execution_count": 3
  },
  {
   "metadata": {},
   "cell_type": "markdown",
   "source": [
    "## Rubber Duck Explanation 🦆\n",
    "\n",
    "Imagine you're reading the string from left to right with a marker.\n",
    "\n",
    "You put your marker down at `start`, which is the beginning of a group.\n",
    "\n",
    "Then you walk forward with `i` and ask:\n",
    "- \"Is this still the same letter as where I put the marker?\"\n",
    "- If yes, keep walking.\n",
    "- If no, stop. You just walked past the end of that group.\n",
    "\n",
    "At that moment:\n",
    "- The group started at `start`\n",
    "- The group ended at `i - 1`\n",
    "- So its interval is `[start, i-1]`\n",
    "\n",
    "Now you check: was this group long (3 or more)?\n",
    "- If yes, you record `[start, i-1]` in the answer.\n",
    "- If not, you ignore it.\n",
    "\n",
    "Then you move the marker to the new position:\n",
    "- `start = i`\n",
    "- and repeat the process for the next group.\n",
    "\n",
    "This repeats until you're off the edge of the string.\n",
    "\n",
    "Example with `abbxxxxzzy`:\n",
    "\n",
    "- Start at index 0:\n",
    "  - You see `\"a\"`. Length is 1 → ignore.\n",
    "- Then from index 1:\n",
    "  - You see `\"bb\"`. Length is 2 → ignore.\n",
    "- Then from index 3:\n",
    "  - You see `\"xxxx\"`. Length is 4 → record `[3,6]`.\n",
    "- Then from index 7:\n",
    "  - `\"zz\"` → ignore.\n",
    "- Then from index 9:\n",
    "  - `\"y\"` → ignore.\n",
    "\n",
    "Return `[[3,6]]`.\n",
    "\n",
    "In other words: we're just circling long \"stretches\" of the same letter and writing down where each long stretch started and ended.\n"
   ],
   "id": "65953da6c2851bd5"
  },
  {
   "metadata": {},
   "cell_type": "markdown",
   "source": [
    "## Time Complexity and Real-World Use\n",
    "\n",
    "### Time Complexity\n",
    "\n",
    "Let `n = len(s)`.\n",
    "\n",
    "- We scan through the string once with the pointer `i`.\n",
    "- For each group, `i` moves forward and never goes backward.\n",
    "- Each character in `s` is visited at most once.\n",
    "\n",
    "Therefore:\n",
    "- Time complexity is **O(n)**.\n",
    "- Space complexity is **O(k)** where `k` is the number of large groups we find (worst case O(n) if you had something like \"aaaaa...\").\n",
    "\n",
    "How we measure time complexity here:\n",
    "1. We count how many times each loop actually *touches* a character.\n",
    "2. The outer loop and the inner loop are not nested in the \"expensive\" way — they cooperate. The `while i < n:` loop doesn't reset `i` back to the beginning, so the total work across both loops is still proportional to `n`, not `n^2`.\n",
    "\n",
    "This is a classic linear scan.\n",
    "\n",
    "\n",
    "### Real-World Applicability\n",
    "\n",
    "This \"find long runs of the same thing and return their ranges\" pattern shows up a lot:\n",
    "\n",
    "1. **Data compression / run-length encoding (RLE)**\n",
    "   When you compress something like `aaaaabbbbcc`, you want to know runs of identical symbols and their lengths. This is the same idea.\n",
    "\n",
    "2. **Network / sensor monitoring**\n",
    "   Imagine a stream of status readings like `\"OKOKOKFAILFAILFAILFAILOK\"`.\n",
    "   Detecting \"large groups\" of `\"FAIL\"` can tell you when there's a serious outage (e.g. 3+ fails in a row).\n",
    "\n",
    "3. **Genomics / DNA sequences**\n",
    "   In DNA strings, repeated bases like `\"AAAAAA\"` (homopolymer runs) can be biologically relevant. You might want to report where long repeats occur.\n",
    "\n",
    "4. **Text cleanup / validation**\n",
    "   You might want to detect spammy input, like `\"heyyyyyyyyyy\"` or `\"!!!!!!!!!!!!\"`, and flag those long repeated sections.\n",
    "\n",
    "So even though the problem looks like just string indexing, it's basically:\n",
    "**\"Find stable regions in a 1D signal and report where they're long enough to matter.\"**\n"
   ],
   "id": "da89b8a5bde7bfd2"
  }
 ],
 "metadata": {
  "kernelspec": {
   "display_name": "Python 3",
   "language": "python",
   "name": "python3"
  },
  "language_info": {
   "codemirror_mode": {
    "name": "ipython",
    "version": 2
   },
   "file_extension": ".py",
   "mimetype": "text/x-python",
   "name": "python",
   "nbconvert_exporter": "python",
   "pygments_lexer": "ipython2",
   "version": "2.7.6"
  }
 },
 "nbformat": 4,
 "nbformat_minor": 5
}
