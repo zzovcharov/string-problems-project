{
 "cells": [
  {
   "metadata": {},
   "cell_type": "markdown",
   "source": [
    "### Problem 13 — Number of Lines to Write a String\n",
    "\n",
    "You are given a string `s` of lowercase English letters and an array `widths` where each element represents the pixel width of a letter (`widths[0]` is the width of 'a', `widths[1]` is the width of 'b', etc.).\n",
    "\n",
    "You are trying to write the string across several lines, where each line is no longer than 100 pixels. Write as many letters as possible per line without exceeding 100 pixels, and continue onto the next line.\n",
    "\n",
    "Return a list of two integers:\n",
    "1. The total number of lines.\n",
    "2. The width of the last line.\n",
    "\n",
    "#### Example 1:\n",
    "Input: widths = [10,10,10,10,10,10,10,10,10,10,10,10,10,10,10,10,10,10,10,10,10,10,10,10,10,10], s = \"abcdefghijklmnopqrstuvwxyz\"\n",
    "Output: [3,60]\n",
    "Explanation: You can write s as follows:\n",
    "abcdefghij  // 100 pixels wide\n",
    "klmnopqrst  // 100 pixels wide\n",
    "uvwxyz      // 60 pixels wide\n",
    "There are a total of 3 lines, and the last line is 60 pixels wide.\n",
    "\n",
    "#### Example 2:\n",
    "\n",
    "Input: widths = [4,10,10,10,10,10,10,10,10,10,10,10,10,10,10,10,10,10,10,10,10,10,10,10,10,10], s = \"bbbcccdddaaa\"\n",
    "Output: [2,4]\n",
    "Explanation: You can write s as follows:\n",
    "bbbcccdddaa  // 98 pixels wide\n",
    "a            // 4 pixels wide\n",
    "There are a total of 2 lines, and the last line is 4 pixels wide.\n",
    "\n"
   ],
   "id": "ff74f56043209c6a"
  },
  {
   "metadata": {
    "ExecuteTime": {
     "end_time": "2025-10-22T10:08:16.301175Z",
     "start_time": "2025-10-22T10:08:16.295357Z"
    }
   },
   "cell_type": "code",
   "source": [
    "class Solution(object):\n",
    "    def numberOfLines(self, widths, s):\n",
    "        \"\"\"\n",
    "        :type widths: List[int]\n",
    "        :type s: str\n",
    "        :rtype: List[int]\n",
    "        \"\"\"\n",
    "        line = 1\n",
    "        curr_w = 0\n",
    "\n",
    "        for i in s:\n",
    "            index_w = widths[ord(i) - ord('a')]\n",
    "            if curr_w + index_w > 100:\n",
    "                line += 1\n",
    "                curr_w = index_w\n",
    "            else:\n",
    "                curr_w += index_w\n",
    "        return [line, curr_w]\n",
    "\n"
   ],
   "id": "ff18f7c4659cd962",
   "outputs": [],
   "execution_count": 1
  },
  {
   "metadata": {
    "ExecuteTime": {
     "end_time": "2025-10-22T10:08:16.315451Z",
     "start_time": "2025-10-22T10:08:16.309452Z"
    }
   },
   "cell_type": "code",
   "source": [
    "s = Solution()\n",
    "\n",
    "# Example 1\n",
    "print(s.numberOfLines([10]*26, \"abcdefghijklmnopqrstuvwxyz\"))  # Expected [3, 60]\n",
    "\n",
    "# Example 2\n",
    "widths = [4,10,10,10,10,10,10,10,10,10,10,10,10,10,10,10,10,10,10,10,10,10,10,10,10,10]\n",
    "print(s.numberOfLines(widths, \"bbbcccdddaaa\"))  # Expected [2, 4]\n"
   ],
   "id": "f5ef43c740a49548",
   "outputs": [
    {
     "name": "stdout",
     "output_type": "stream",
     "text": [
      "[3, 60]\n",
      "[2, 4]\n"
     ]
    }
   ],
   "execution_count": 2
  },
  {
   "metadata": {},
   "cell_type": "code",
   "outputs": [],
   "execution_count": null,
   "source": [
    "# Try your own input\n",
    "widths_input = list(map(int, input(\"Enter 26 widths separated by spaces: \").split()))\n",
    "s_input = input(\"Enter your string: \")\n",
    "\n",
    "sol = Solution()\n",
    "print(\"Result:\", sol.numberOfLines(widths_input, s_input))\n"
   ],
   "id": "6d7d4c53e7ab9bee"
  },
  {
   "metadata": {},
   "cell_type": "markdown",
   "source": [
    "### Rubber Duck Explanation\n",
    "\n",
    "1. Start with the first line (`lines = 1`) and a width counter (`curr = 0`).\n",
    "2. For each letter:\n",
    "   - Convert it to its index using `ord(i) - ord('a')`.\n",
    "   - Get its width from the `widths` array.\n",
    "   - If adding it would exceed 100 pixels → start a new line.\n",
    "   - Otherwise, add it to the current line.\n",
    "3. Return `[total_lines, last_line_width]`.\n",
    "\n",
    "This simulates how text fills lines, like in a word processor with fixed character widths.\n"
   ],
   "id": "141e8580925af07b"
  }
 ],
 "metadata": {
  "kernelspec": {
   "display_name": "Python 3",
   "language": "python",
   "name": "python3"
  },
  "language_info": {
   "codemirror_mode": {
    "name": "ipython",
    "version": 2
   },
   "file_extension": ".py",
   "mimetype": "text/x-python",
   "name": "python",
   "nbconvert_exporter": "python",
   "pygments_lexer": "ipython2",
   "version": "2.7.6"
  }
 },
 "nbformat": 4,
 "nbformat_minor": 5
}
