{
 "cells": [
  {
   "metadata": {},
   "cell_type": "markdown",
   "source": [
    "## Problem 6: Valid Anagram\n",
    "\n",
    "**Description:**\n",
    "Given two strings `s` and `t`, return `True` if `t` is an anagram of `s`, and `False` otherwise.\n",
    "\n",
    "An **anagram** is a word formed by rearranging the letters of another word, using all the original letters exactly once.\n",
    "\n",
    "**Examples:**\n"
   ],
   "id": "f9dc6453f2296868"
  },
  {
   "metadata": {},
   "cell_type": "markdown",
   "source": [
    "### Approach — Sorting\n",
    "\n",
    "The simplest way to check for an anagram is to sort both strings and compare them.\n",
    "\n",
    "1. If the strings have different lengths → immediately return `False`.\n",
    "2. Sort both strings using `sorted(s)` and `sorted(t)`.\n",
    "3. If the sorted lists of characters are identical → return `True`, else `False`.\n",
    "\n",
    "**Why this works:**\n",
    "When you sort a string, Python rearranges all letters alphabetically.\n",
    "If two words have the same letters in any order, their sorted versions will be identical.\n",
    "\n",
    "**Complexity:**\n",
    "- Time: `O(n log n)` (for sorting)\n",
    "- Space: `O(n)` (for storing sorted lists)\n"
   ],
   "id": "7c7add69a3589813"
  },
  {
   "metadata": {
    "ExecuteTime": {
     "end_time": "2025-10-12T20:02:07.821512Z",
     "start_time": "2025-10-12T20:02:07.810174Z"
    }
   },
   "cell_type": "code",
   "source": [
    "class Solution(object):\n",
    "    def isAnagram(self, s, t):\n",
    "        \"\"\"\n",
    "        :type s: str\n",
    "        :type t: str\n",
    "        :rtype: bool\n",
    "        \"\"\"\n",
    "        if len(s) != len(t):\n",
    "            return False\n",
    "        if sorted(s) == sorted(t):\n",
    "            return True\n",
    "        else:\n",
    "            return False\n",
    "\n"
   ],
   "id": "a3790e8236826eae",
   "outputs": [],
   "execution_count": 10
  },
  {
   "metadata": {},
   "cell_type": "code",
   "outputs": [],
   "execution_count": null,
   "source": [
    "s = Solution()\n",
    "print(s.isAnagram(\"anagram\", \"nagaram\"))   # True\n",
    "print(s.isAnagram(\"rat\", \"car\"))           # False\n",
    "print(s.isAnagram(\"listen\", \"silent\"))     # True\n",
    "print(s.isAnagram(\"a\", \"aa\"))              # False\n"
   ],
   "id": "115acace8df44ece"
  }
 ],
 "metadata": {
  "kernelspec": {
   "display_name": "Python 3",
   "language": "python",
   "name": "python3"
  },
  "language_info": {
   "codemirror_mode": {
    "name": "ipython",
    "version": 2
   },
   "file_extension": ".py",
   "mimetype": "text/x-python",
   "name": "python",
   "nbconvert_exporter": "python",
   "pygments_lexer": "ipython2",
   "version": "2.7.6"
  }
 },
 "nbformat": 4,
 "nbformat_minor": 5
}
