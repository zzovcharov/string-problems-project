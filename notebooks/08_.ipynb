{
 "cells": [
  {
   "cell_type": "code",
   "id": "initial_id",
   "metadata": {
    "collapsed": true,
    "ExecuteTime": {
     "end_time": "2025-10-18T15:18:51.410977Z",
     "start_time": "2025-10-18T15:18:51.408278Z"
    }
   },
   "source": [
    ""
   ],
   "outputs": [],
   "execution_count": null
  },
  {
   "metadata": {},
   "cell_type": "markdown",
   "source": "",
   "id": "56009b7eda3faa11"
  },
  {
   "metadata": {
    "ExecuteTime": {
     "end_time": "2025-10-18T15:18:51.459102Z",
     "start_time": "2025-10-18T15:18:51.424051Z"
    }
   },
   "cell_type": "code",
   "source": [
    "import time\n",
    "\n",
    "def test_concatenation():\n",
    "    print(\"Exercise 1: String Concatenation Performance\")\n",
    "    print(\"-\" * 40)\n",
    "\n",
    "    # Method 1: Regular concatenation\n",
    "    start = time.perf_counter()\n",
    "    result = \"\"\n",
    "    for i in range(100000):\n",
    "        result = result + str(i)\n",
    "    end_time = time.perf_counter()\n",
    "    print(\"String concatenation:\", round(end_time - start, 5), \"seconds\")\n",
    "\n",
    "    # Method 2: Using join (builder pattern)\n",
    "    start = time.perf_counter()\n",
    "    result = \"\".join(str(i) for i in range(100000))\n",
    "    end_time = time.perf_counter()\n",
    "    print(\"Join method:\", round(end_time - start, 5), \"seconds\")\n",
    "\n",
    "# Run test\n",
    "test_concatenation()\n"
   ],
   "id": "c1d9b3a3a302aa33",
   "outputs": [
    {
     "name": "stdout",
     "output_type": "stream",
     "text": [
      "Exercise 1: String Concatenation Performance\n",
      "----------------------------------------\n",
      "String concatenation: 0.01341 seconds\n",
      "Join method: 0.01554 seconds\n"
     ]
    }
   ],
   "execution_count": 11
  }
 ],
 "metadata": {
  "kernelspec": {
   "display_name": "Python 3",
   "language": "python",
   "name": "python3"
  },
  "language_info": {
   "codemirror_mode": {
    "name": "ipython",
    "version": 2
   },
   "file_extension": ".py",
   "mimetype": "text/x-python",
   "name": "python",
   "nbconvert_exporter": "python",
   "pygments_lexer": "ipython2",
   "version": "2.7.6"
  }
 },
 "nbformat": 4,
 "nbformat_minor": 5
}
