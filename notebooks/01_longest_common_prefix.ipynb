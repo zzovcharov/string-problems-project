{
 "cells": [
  {
   "metadata": {},
   "cell_type": "markdown",
   "source": [
    "## Problem 1: Longest Common Prefix\n",
    "\n",
    "Write a function to find the longest common prefix string among an array of strings.\n",
    "\n",
    "**Examples**\n",
    "- Input: [\"flower\",\"flow\",\"flight\"] → Output: \"fl\"\n",
    "- Input: [\"dog\",\"racecar\",\"car\"] → Output: \"\"\n",
    "\n",
    "**Constraints**\n",
    "- 1 ≤ strs.length ≤ 200\n",
    "- 0 ≤ strs[i].length ≤ 200\n",
    "- strs[i] consists only of lowercase English letters.\n"
   ],
   "id": "b25db0132f748d2c"
  },
  {
   "metadata": {},
   "cell_type": "markdown",
   "source": [
    "### Approach\n",
    "1. Use the first word as a reference.\n",
    "2. Compare its characters with the same position in the others.\n",
    "3. Stop when a mismatch occurs.\n",
    "4. Return everything up to that position.\n",
    "\n"
   ],
   "id": "472c4340cd052e90"
  },
  {
   "metadata": {
    "ExecuteTime": {
     "end_time": "2025-10-11T18:56:56.037779Z",
     "start_time": "2025-10-11T18:56:56.030311Z"
    }
   },
   "cell_type": "code",
   "source": [
    "class Solution:\n",
    "    def longestCommonPrefix(self, strs):\n",
    "        if not strs:\n",
    "            return \"\"\n",
    "        for i in range(len(strs[0])):\n",
    "            curr_char = strs[0][i]\n",
    "            for word in strs[1:]:\n",
    "                if i >= len(word) or word[i] != curr_char:\n",
    "                    return strs[0][:i]\n",
    "        return strs[0]\n"
   ],
   "id": "bf0a82282296fbca",
   "outputs": [],
   "execution_count": 31
  },
  {
   "metadata": {
    "ExecuteTime": {
     "end_time": "2025-10-11T18:56:56.050077Z",
     "start_time": "2025-10-11T18:56:56.037779Z"
    }
   },
   "cell_type": "code",
   "source": [
    "s = Solution()\n",
    "print(s.longestCommonPrefix([\"flower\",\"flow\",\"flight\"]))  # Expected: fl\n",
    "print(s.longestCommonPrefix([\"dog\",\"racecar\",\"car\"]))     # Expected: \"\"\n",
    "print(s.longestCommonPrefix([\"car\",\"carpet\",\"cartoon\"]))  # Expected: car\n",
    "print(s.longestCommonPrefix([\"alone\"]))                   # Expected: alone\n",
    "print(s.longestCommonPrefix([]))                          # Expected: \"\"\n"
   ],
   "id": "2e2bd3093f46df0",
   "outputs": [
    {
     "name": "stdout",
     "output_type": "stream",
     "text": [
      "fl\n",
      "\n",
      "car\n",
      "alone\n",
      "\n"
     ]
    }
   ],
   "execution_count": 32
  },
  {
   "metadata": {
    "ExecuteTime": {
     "end_time": "2025-10-11T18:57:11.400231Z",
     "start_time": "2025-10-11T18:56:56.110457Z"
    }
   },
   "cell_type": "code",
   "source": [
    "s = Solution()\n",
    "\n",
    "# Ask the user to enter words separated by spaces\n",
    "user_input = input(\"Enter words separated by spaces: \")\n",
    "\n",
    "# Split the text into a list\n",
    "words = user_input.split()\n",
    "\n",
    "# Pass the list into your function\n",
    "result = s.longestCommonPrefix(words)\n",
    "\n",
    "print(\"Longest common prefix:\", result)\n"
   ],
   "id": "ce8e2c3771488a59",
   "outputs": [
    {
     "name": "stdout",
     "output_type": "stream",
     "text": [
      "Longest common prefix: Ya\n"
     ]
    }
   ],
   "execution_count": 33
  }
 ],
 "metadata": {
  "kernelspec": {
   "display_name": "Python 3",
   "language": "python",
   "name": "python3"
  },
  "language_info": {
   "codemirror_mode": {
    "name": "ipython",
    "version": 2
   },
   "file_extension": ".py",
   "mimetype": "text/x-python",
   "name": "python",
   "nbconvert_exporter": "python",
   "pygments_lexer": "ipython2",
   "version": "2.7.6"
  }
 },
 "nbformat": 4,
 "nbformat_minor": 5
}
