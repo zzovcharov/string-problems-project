{
 "cells": [
  {
   "metadata": {},
   "cell_type": "markdown",
   "source": [
    "# Repeated Substring Pattern\n",
    "\n",
    "## Problem\n",
    "\n",
    "Given a string `s`, determine if it can be constructed by taking a substring of it and appending multiple copies of the substring together.\n",
    "\n",
    "### Examples\n",
    "\n",
    "**Example 1**\n",
    "Input: s = \"abab\"\n",
    "Output: true\n",
    "Explanation: It is the substring \"ab\" twice.\n",
    "\n",
    "**Example 2:**\n",
    "\n",
    "Input: s = \"aba\"\n",
    "Output: false\n",
    "\n",
    "**Example 3:**\n",
    "\n",
    "Input: s = \"abcabcabcabc\"\n",
    "Output: true\n",
    "Explanation: It is the substring \"abc\" four times or the substring \"abcabc\" twice."
   ],
   "id": "a88a818933a276ed"
  },
  {
   "metadata": {},
   "cell_type": "markdown",
   "source": [
    "## Approach\n",
    "\n",
    "We want to check if a string `s` can be formed by repeating a smaller block (substring) multiple times.\n",
    "\n",
    "To do this, we:\n",
    "1. Find the total length `n` of the string.\n",
    "2. Test every possible block length `k` from `1` to `n // 2`:\n",
    "   - The substring length `k` must divide `n` evenly.\n",
    "   - Extract the first `k` characters as the candidate block.\n",
    "   - Repeat that block `(n // k)` times.\n",
    "   - If the repeated version equals the original string, return `True`.\n",
    "3. If no valid block works, return `False`.\n",
    "\n",
    "This approach checks every possible repeating pattern that could tile the string completely.\n"
   ],
   "id": "56009b7eda3faa11"
  },
  {
   "metadata": {
    "ExecuteTime": {
     "end_time": "2025-10-28T07:11:32.574168Z",
     "start_time": "2025-10-28T07:11:32.547674Z"
    }
   },
   "cell_type": "code",
   "source": [
    "class Solution(object):\n",
    "    def repeatedSubstringPattern(self, s):\n",
    "        \"\"\"\n",
    "        :type s: str\n",
    "        :rtype: bool\n",
    "        \"\"\"\n",
    "        n =len(s)\n",
    "\n",
    "        for k in range(1, n//2 + 1):\n",
    "            if n % k != 0:\n",
    "                continue\n",
    "\n",
    "            block = s[:k]\n",
    "            times = n//k\n",
    "            built = block * times\n",
    "\n",
    "            if built == s:\n",
    "                return True\n",
    "        return False"
   ],
   "id": "c1d9b3a3a302aa33",
   "outputs": [],
   "execution_count": 1
  },
  {
   "metadata": {},
   "cell_type": "code",
   "outputs": [],
   "execution_count": null,
   "source": [
    "sol = Solution()\n",
    "\n",
    "s = input('enter a string').lower().strip()\n",
    "print(\"Can the string be formed by repeating a substring?\", sol.repeatedSubstringPattern(s))"
   ],
   "id": "880f871221c17ed4"
  }
 ],
 "metadata": {
  "kernelspec": {
   "display_name": "Python 3",
   "language": "python",
   "name": "python3"
  },
  "language_info": {
   "codemirror_mode": {
    "name": "ipython",
    "version": 2
   },
   "file_extension": ".py",
   "mimetype": "text/x-python",
   "name": "python",
   "nbconvert_exporter": "python",
   "pygments_lexer": "ipython2",
   "version": "2.7.6"
  }
 },
 "nbformat": 4,
 "nbformat_minor": 5
}
