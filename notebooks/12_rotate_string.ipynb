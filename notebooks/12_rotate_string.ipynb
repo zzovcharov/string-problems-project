{
 "cells": [
  {
   "metadata": {},
   "cell_type": "markdown",
   "source": "",
   "id": "25198f7009308a5f"
  },
  {
   "metadata": {},
   "cell_type": "markdown",
   "source": "",
   "id": "883b4ca0fec0821f"
  },
  {
   "metadata": {
    "ExecuteTime": {
     "end_time": "2025-10-20T15:41:22.694547Z",
     "start_time": "2025-10-20T15:41:22.685561Z"
    }
   },
   "cell_type": "code",
   "source": [
    "class Solution(object):\n",
    "    def rotateString(self, s, goal):\n",
    "        \"\"\"\n",
    "        :type s: str\n",
    "        :type goal: str\n",
    "        :rtype: bool\n",
    "        \"\"\"\n",
    "        if len(s) != len(goal):\n",
    "            return False\n",
    "\n",
    "        for i in range(len(s)):\n",
    "            s = s[1:] + s[0]\n",
    "            if s == goal:\n",
    "                return True\n",
    "        return False"
   ],
   "id": "c63d8699723d3713",
   "outputs": [],
   "execution_count": 1
  }
 ],
 "metadata": {
  "kernelspec": {
   "display_name": "Python 3",
   "language": "python",
   "name": "python3"
  },
  "language_info": {
   "codemirror_mode": {
    "name": "ipython",
    "version": 2
   },
   "file_extension": ".py",
   "mimetype": "text/x-python",
   "name": "python",
   "nbconvert_exporter": "python",
   "pygments_lexer": "ipython2",
   "version": "2.7.6"
  }
 },
 "nbformat": 4,
 "nbformat_minor": 5
}
