{
 "cells": [
  {
   "metadata": {},
   "cell_type": "markdown",
   "source": [
    "# Problem: Reverse Only Letters\n",
    "\n",
    "## Description\n",
    "Given a string `s`, reverse the string according to the following rules:\n",
    "\n",
    "- All **non-English letters** remain in the same position.\n",
    "- All **English letters (a–z, A–Z)** should be reversed.\n",
    "- Return the resulting string after reversing only the letters.\n",
    "\n",
    "\n",
    "\n",
    "### Examples\n",
    "\n",
    "**Example 1:**\n",
    "\n",
    "Input: s = \"ab-cd\"\n",
    "Output: \"dc-ba\"\n",
    "\n",
    "**Example 2:**\n",
    "\n",
    "Input: s = \"a-bC-dEf-ghIj\"\n",
    "Output: \"j-Ih-gfE-dCba\"\n",
    "\n",
    "**Example 3:**\n",
    "\n",
    "Input: s = \"Test1ng-Leet=code-Q!\"\n",
    "Output: \"Qedo1ct-eeLg=ntse-T!\"\n",
    "\n",
    "\n",
    "\n",
    "\n",
    "*Constraints:*\n",
    "\n",
    "1 <= s.length <= 100\n",
    "s consists of characters with ASCII values in the range [33, 122].\n",
    "s does not contain '\\\"' or '\\\\'."
   ],
   "id": "bae74c5317249e50"
  },
  {
   "metadata": {},
   "cell_type": "markdown",
   "source": [
    "### Approach:\n",
    "1. Collect all the letters.\n",
    "2. Reverse them.\n",
    "3. Put them back one by one while keeping other characters where they are.\n",
    "4. Walk through the original string\n",
    "\n",
    "We check each character in the input string:\n",
    "\n",
    "If it’s a letter, we take the first reversed letter from our reversed list and add it to the result.\n",
    "\n",
    "If it’s not a letter, we just copy it directly into the result.\n",
    "\n",
    "For example, for the input a-bC-dEf-ghIj, the result builds like this:\n",
    "j, j-, j-I, j-Ih, j-Ih-, j-Ih-g, and so on.\n",
    "\n",
    "At the end, we have the sequence:\n",
    "j, -, I, h, -, g, f, E, -, d, C, b, a\n",
    "\n",
    "5. Join everything together\n",
    "\n",
    "Finally, we glue all these characters together into a single string without spaces between them.\n",
    "The final result is:\n",
    "j-Ih-gfE-dCba"
   ],
   "id": "317c0529826a943b"
  },
  {
   "metadata": {
    "ExecuteTime": {
     "end_time": "2025-10-30T21:30:02.621862Z",
     "start_time": "2025-10-30T21:30:02.616001Z"
    }
   },
   "cell_type": "code",
   "source": [
    "class Solution(object):\n",
    "    def reverseOnlyLetters(self, s):\n",
    "        \"\"\"\n",
    "        :type s: str\n",
    "        :rtype: str\n",
    "        \"\"\"\n",
    "        r = []\n",
    "\n",
    "        letters = [ch for ch in s if ch.isalpha()]\n",
    "        letters.reverse()\n",
    "\n",
    "        for ch in s:\n",
    "            if ch.isalpha():\n",
    "                r.append(letters.pop(0))\n",
    "            else:\n",
    "                r.append(ch)\n",
    "\n",
    "        return ''.join(r)\n"
   ],
   "id": "29ffd2516f118859",
   "outputs": [],
   "execution_count": 1
  },
  {
   "metadata": {
    "ExecuteTime": {
     "end_time": "2025-10-30T21:30:05.926343Z",
     "start_time": "2025-10-30T21:30:03.066879Z"
    }
   },
   "cell_type": "code",
   "source": [
    "sol = Solution()\n",
    "\n",
    "s = input(\"Enter a string: \")\n",
    "print(sol.reverseOnlyLetters(s))"
   ],
   "id": "3cd74c7a3602024",
   "outputs": [
    {
     "name": "stdout",
     "output_type": "stream",
     "text": [
      "j-Ih-gfE-dCba\n"
     ]
    }
   ],
   "execution_count": 2
  }
 ],
 "metadata": {
  "kernelspec": {
   "display_name": "Python 3",
   "language": "python",
   "name": "python3"
  },
  "language_info": {
   "codemirror_mode": {
    "name": "ipython",
    "version": 2
   },
   "file_extension": ".py",
   "mimetype": "text/x-python",
   "name": "python",
   "nbconvert_exporter": "python",
   "pygments_lexer": "ipython2",
   "version": "2.7.6"
  }
 },
 "nbformat": 4,
 "nbformat_minor": 5
}
