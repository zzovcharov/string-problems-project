{
 "cells": [
  {
   "metadata": {},
   "cell_type": "markdown",
   "source": [
    "# Uncommon Words from Two Sentences\n",
    "\n",
    "## Problem\n",
    "\n",
    "We are given two sentences `s1` and `s2`, each consisting of lowercase words separated by a single space.\n",
    "\n",
    "A word is **uncommon** if:\n",
    "1. It appears **exactly once** in one of the sentences, and\n",
    "2. It does **not appear at all** in the other sentence.\n",
    "\n",
    "We must return a list of all such uncommon words.\n",
    "\n",
    "The answer may be in any order.\n",
    "\n",
    "\n",
    "### Examples\n",
    "\n",
    "**Example 1**\n",
    "Input: s1 = \"this apple is sweet\", s2 = \"this apple is sour\"\n",
    "Output: [\"sweet\",\"sour\"]\n",
    "\n",
    "**Example 2:**\n",
    "\n",
    "Input: s1 = \"apple apple\", s2 = \"banana\"\n",
    "Output: [\"banana\"]\n"
   ],
   "id": "42cd017e695b476d"
  },
  {
   "metadata": {},
   "cell_type": "markdown",
   "source": [
    "## Approach\n",
    "\n",
    "We can solve this problem in 4 steps:\n",
    "\n",
    "1. **Split** each sentence into words using `split()`.\n",
    "   This gives us two word lists, one for each sentence.\n",
    "\n",
    "2. **Count** how many times each word appears in each sentence.\n",
    "   We'll use two dictionaries (`seen1` and `seen2`).\n",
    "\n",
    "3. **Compare** the word counts:\n",
    "   - A word from `s1` is uncommon if it appears exactly once in `s1` and does not appear in `s2`.\n",
    "   - A word from `s2` is uncommon if it appears exactly once in `s2` and does not appear in `s1`.\n",
    "\n",
    "4. **Return** all such words in a list.\n",
    "\n",
    "This approach is straightforward, uses only basic Python structures, and avoids any external libraries.\n"
   ],
   "id": "eddbaac1d1690050"
  },
  {
   "metadata": {
    "ExecuteTime": {
     "end_time": "2025-10-27T20:17:53.712304Z",
     "start_time": "2025-10-27T20:17:53.706940Z"
    }
   },
   "cell_type": "code",
   "source": [
    "class Solution(object):\n",
    "    def uncommonFromSentences(self, s1, s2):\n",
    "        words1 = s1.split()\n",
    "        words2 = s2.split()\n",
    "        res = []\n",
    "\n",
    "        seen1 = {}\n",
    "        for word in words1:\n",
    "            if word in seen1:\n",
    "                seen1[word] += 1\n",
    "            else:\n",
    "                seen1[word] = 1\n",
    "        seen2 = {}\n",
    "        for word in words2:\n",
    "            if word in seen2:\n",
    "                seen2[word] += 1\n",
    "            else:\n",
    "                seen2[word] = 1\n",
    "        for word in seen1:\n",
    "            if seen1[word] == 1 and word not in seen2:\n",
    "                res.append(word)\n",
    "        for word in seen2:\n",
    "            if seen2[word] == 1 and word not in seen1:\n",
    "                res.append(word)\n",
    "\n",
    "        return res\n"
   ],
   "id": "63339ed2397fcd02",
   "outputs": [],
   "execution_count": 8
  },
  {
   "metadata": {
    "ExecuteTime": {
     "end_time": "2025-10-27T20:18:07.595871Z",
     "start_time": "2025-10-27T20:17:53.731706Z"
    }
   },
   "cell_type": "code",
   "source": [
    "sol = Solution()\n",
    "s1 = input('Enter s1')\n",
    "s2 = input('Enter s2')\n",
    "print(sol.uncommonFromSentences(s1, s2))"
   ],
   "id": "2a5e4e27fe219a68",
   "outputs": [
    {
     "name": "stdout",
     "output_type": "stream",
     "text": [
      "['sweet', 'sour']\n"
     ]
    }
   ],
   "execution_count": 9
  }
 ],
 "metadata": {
  "kernelspec": {
   "display_name": "Python 3",
   "language": "python",
   "name": "python3"
  },
  "language_info": {
   "codemirror_mode": {
    "name": "ipython",
    "version": 2
   },
   "file_extension": ".py",
   "mimetype": "text/x-python",
   "name": "python",
   "nbconvert_exporter": "python",
   "pygments_lexer": "ipython2",
   "version": "2.7.6"
  }
 },
 "nbformat": 4,
 "nbformat_minor": 5
}
