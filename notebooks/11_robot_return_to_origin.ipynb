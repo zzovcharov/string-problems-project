{
 "cells": [
  {
   "metadata": {},
   "cell_type": "markdown",
   "source": [
    "# Robot Return to Origin\n",
    "\n",
    "**Problem**\n",
    "A robot starts at `(0, 0)` on a 2D plane. Given a string `moves` where each char is one of:\n",
    "- `U` (up), `D` (down), `L` (left), `R` (right),\n",
    "\n",
    "return `True` if the robot returns to the origin after completing all moves; otherwise `False`.\n",
    "\n",
    "**Examples**\n",
    "- `moves = \"UD\"` → `True`\n",
    "- `moves = \"LL\"` → `False`\n",
    "\n",
    "**Constraints**\n",
    "- `1 <= moves.length <= 2 * 10^4`\n",
    "- `moves` contains only `'U','D','L','R'`\n"
   ],
   "id": "3b4bcceadde7601d"
  },
  {
   "metadata": {},
   "cell_type": "markdown",
   "source": [
    "## Approach\n",
    "\n",
    "**A) Count-based (most concise)**\n",
    "- Robot returns to origin iff:\n",
    "  - number of `U` equals number of `D`, **and**\n",
    "  - number of `L` equals number of `R`.\n",
    "\n",
    "**B) Coordinate simulation (explicit)**\n",
    "- Track `(x, y)` starting at `(0, 0)`.\n",
    "- For each move:\n",
    "  - `U`: `y += 1`, `D`: `y -= 1`, `R`: `x += 1`, `L`: `x -= 1`\n",
    "- Return `x == 0 and y == 0`.\n",
    "\n",
    "Both are `O(n)` time, `O(1)` extra space.\n"
   ],
   "id": "57dc6ece7891a3e3"
  },
  {
   "metadata": {},
   "cell_type": "code",
   "outputs": [],
   "execution_count": null,
   "source": [
    "class Solution(object):\n",
    "    def judgeCircle(self, moves):\n",
    "        \"\"\"\n",
    "        :type moves: str\n",
    "        :rtype: bool\n",
    "        \"\"\"\n",
    "        if moves.count('U') == moves.count('D')and moves.count('L') == moves.count('R'):\n",
    "            return True\n",
    "        else:\n",
    "            return False"
   ],
   "id": "2d5b3eb9cdb7dfc4"
  }
 ],
 "metadata": {
  "kernelspec": {
   "display_name": "Python 3",
   "language": "python",
   "name": "python3"
  },
  "language_info": {
   "codemirror_mode": {
    "name": "ipython",
    "version": 2
   },
   "file_extension": ".py",
   "mimetype": "text/x-python",
   "name": "python",
   "nbconvert_exporter": "python",
   "pygments_lexer": "ipython2",
   "version": "2.7.6"
  }
 },
 "nbformat": 4,
 "nbformat_minor": 5
}
