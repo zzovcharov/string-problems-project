{
 "cells": [
  {
   "metadata": {},
   "cell_type": "markdown",
   "source": [
    "# Longest Uncommon Subsequence I\n",
    "\n",
    "**Problem:**\n",
    "\n",
    "Given two strings `a` and `b`, return the length of the **longest uncommon subsequence** between them.\n",
    "If no such uncommon subsequence exists, return `-1`.\n",
    "\n",
    "An *uncommon subsequence* between two strings is a string that is a subsequence of **exactly one** of them.\n",
    "\n",
    "---\n",
    "\n",
    "### Examples\n",
    "\n",
    "| Input | Output | Explanation |\n",
    "|-------|---------|-------------|\n",
    "| a = \"aba\", b = \"cdc\" | 3 | \"aba\" is a subsequence of `a` but not `b`. |\n",
    "| a = \"aaa\", b = \"bbb\" | 3 | \"aaa\" and \"bbb\" are both valid uncommon subsequences. |\n",
    "| a = \"aaa\", b = \"aaa\" | -1 | Every subsequence of `a` is also a subsequence of `b`. |\n",
    "\n",
    "---\n",
    "\n",
    "### ⚙Constraints\n",
    "- `1 <= a.length, b.length <= 100`\n",
    "- `a` and `b` consist of lowercase English letters.\n"
   ],
   "id": "b12b3b0d7b99b8d8"
  },
  {
   "metadata": {},
   "cell_type": "markdown",
   "source": [
    "## Approach\n",
    "\n",
    "1. **Check if the two strings are equal**\n",
    "   - If they are identical, every subsequence of one is also a subsequence of the other → result is `-1`.\n",
    "\n",
    "2. **Otherwise, return the longer length**\n",
    "   - The longer string itself cannot be a subsequence of the shorter one.\n",
    "   - So the answer is simply `max(len(a), len(b))`.\n",
    "\n",
    "🧮 This solution runs in **O(1)** time and **O(1)** space — constant time regardless of input size.\n"
   ],
   "id": "c9ae204da2783b00"
  },
  {
   "metadata": {
    "ExecuteTime": {
     "end_time": "2025-10-18T18:47:56.883710Z",
     "start_time": "2025-10-18T18:47:56.875871Z"
    }
   },
   "cell_type": "code",
   "source": [
    "class Solution(object):\n",
    "    def findLUSlength(self, a, b):\n",
    "        \"\"\"\n",
    "        :type a: str\n",
    "        :type b: str\n",
    "        :rtype: int\n",
    "        \"\"\"\n",
    "        if a == b:\n",
    "            return -1\n",
    "        else:\n",
    "            return max(len(a), len(b))"
   ],
   "id": "1dc3992b06221b0e",
   "outputs": [],
   "execution_count": 1
  }
 ],
 "metadata": {
  "kernelspec": {
   "display_name": "Python 3",
   "language": "python",
   "name": "python3"
  },
  "language_info": {
   "codemirror_mode": {
    "name": "ipython",
    "version": 2
   },
   "file_extension": ".py",
   "mimetype": "text/x-python",
   "name": "python",
   "nbconvert_exporter": "python",
   "pygments_lexer": "ipython2",
   "version": "2.7.6"
  }
 },
 "nbformat": 4,
 "nbformat_minor": 5
}
