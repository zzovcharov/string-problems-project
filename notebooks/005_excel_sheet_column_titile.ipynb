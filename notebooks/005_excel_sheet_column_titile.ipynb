{
 "cells": [
  {
   "metadata": {},
   "cell_type": "markdown",
   "source": [
    "## Problem 5: Excel Column Title\n",
    "\n",
    "Given an integer `columnNumber`, return its corresponding column title as in an Excel sheet.\n",
    "\n",
    "Examples:\n",
    "- 1 → A\n",
    "- 26 → Z\n",
    "- 27 → AA\n",
    "- 28 → AB\n"
   ],
   "id": "7a2ed272a737e230"
  },
  {
   "metadata": {},
   "cell_type": "markdown",
   "source": [
    "### Approach\n",
    "- Treat letters A..Z like digits in a base-26 system.\n",
    "- Excel has **no zero digit** (A=1 … Z=26), so before each step: **subtract 1**.\n",
    "- Remainder (`% 26`) → letter (0→A, …, 25→Z).\n",
    "- Build from **right to left**: prepend each new letter.\n",
    "- Stop when the number becomes 0.\n"
   ],
   "id": "da1ce369b9546a7f"
  },
  {
   "metadata": {
    "ExecuteTime": {
     "end_time": "2025-10-13T19:42:21.971627Z",
     "start_time": "2025-10-13T19:42:21.938032Z"
    }
   },
   "cell_type": "code",
   "source": [
    "class Solution(object):\n",
    "    def convertToTitle(self, columnNumber):\n",
    "        \"\"\"\n",
    "        :type columnNumber: int\n",
    "        :rtype: str\n",
    "        \"\"\"\n",
    "        result = ''\n",
    "        while columnNumber > 0:\n",
    "            columnNumber -= 1\n",
    "            remainder = columnNumber % 26\n",
    "            letter = chr(ord('A') + remainder)\n",
    "            result = letter + result\n",
    "            columnNumber //=26\n",
    "        return result"
   ],
   "id": "56c2149b2f6b4dd0",
   "outputs": [],
   "execution_count": 15
  },
  {
   "metadata": {
    "ExecuteTime": {
     "end_time": "2025-10-13T19:42:21.811025300Z",
     "start_time": "2025-10-12T19:03:23.629043Z"
    }
   },
   "cell_type": "code",
   "source": [
    "def trace_convert_to_title():\n",
    "    # Ask the user for a column number\n",
    "    columnNumber = int(input(\"Enter a column number (e.g., 1, 28, 701): \"))\n",
    "\n",
    "    original = columnNumber\n",
    "    steps = []\n",
    "    result = \"\"\n",
    "\n",
    "    # Loop until the column number reduces to zero\n",
    "    while columnNumber > 0:\n",
    "        before = columnNumber\n",
    "        columnNumber -= 1                      # Excel has no zero, so shift down\n",
    "        r = columnNumber % 26\n",
    "        letter = chr(ord('A') + r)\n",
    "        result = letter + result               # prepend new letter\n",
    "        columnNumber //= 26                    # move to next digit\n",
    "        steps.append({\n",
    "            \"before\": before,\n",
    "            \"after_minus_1\": before - 1,\n",
    "            \"remainder\": r,\n",
    "            \"letter\": letter,\n",
    "            \"result_so_far\": result,\n",
    "            \"next_div\": columnNumber\n",
    "        })\n",
    "\n",
    "    # Print step-by-step trace\n",
    "    print(f\"\\nOriginal: {original}\\n\")\n",
    "    for i, st in enumerate(steps, 1):\n",
    "        print(\n",
    "            f\"Step {i}: start={st['before']}, minus1={st['after_minus_1']}, \"\n",
    "            f\"rem={st['remainder']}('{st['letter']}'), \"\n",
    "            f\"result_so_far='{st['result_so_far']}', next={st['next_div']}\"\n",
    "        )\n",
    "    print(f\"\\n✅ Final Excel Column Title: {result}\\n\")\n",
    "\n",
    "# Run interactively\n",
    "trace_convert_to_title()\n"
   ],
   "id": "f4ccfad9f0dd1b69",
   "outputs": [
    {
     "name": "stdout",
     "output_type": "stream",
     "text": [
      "\n",
      "Original: 737\n",
      "\n",
      "Step 1: start=737, minus1=736, rem=8('I'), result_so_far='I', next=28\n",
      "Step 2: start=28, minus1=27, rem=1('B'), result_so_far='BI', next=1\n",
      "Step 3: start=1, minus1=0, rem=0('A'), result_so_far='ABI', next=0\n",
      "\n",
      "✅ Final Excel Column Title: ABI\n",
      "\n"
     ]
    }
   ],
   "execution_count": 14
  },
  {
   "metadata": {},
   "cell_type": "markdown",
   "source": [
    "Rubber Duck Explanation — Excel Column Title Problem\n",
    "\n",
    "Excel columns use letters instead of numbers (A–Z, then AA, AB, etc.), which works like a **base-26 system** where each “digit” is a letter.\n",
    "\n",
    "The catch is that Excel’s alphabet starts at **1 (A)** instead of **0**, so it’s not a perfect base-26 — there’s no zero.\n",
    "To handle this, we **subtract 1** before dividing by 26 each time.\n",
    "\n",
    "Each loop:\n",
    "1. Subtract 1 to align A=1..Z=26 with 0..25 math.\n",
    "2. Use the remainder (`% 26`) to find the current letter.\n",
    "3. Convert remainder → letter: `chr(ord('A') + remainder)`.\n",
    "4. Prepend that letter to the result (since we find the **rightmost letter first**).\n",
    "5. Divide the number by 26 and repeat until it reaches 0.\n",
    "\n",
    "**Example (28 → “AB”):**\n",
    "- 28 − 1 = 27 → remainder 1 → ‘B’\n",
    "- 27 // 26 = 1\n",
    "- 1 − 1 = 0 → remainder 0 → ‘A’\n",
    "- Combine backwards → **“AB”**\n",
    "\n",
    "In short:\n",
    "> Subtract 1, take remainder mod 26, map to a letter, **prepend**, repeat until 0."
   ],
   "id": "f0bdd4a8648114ad"
  }
 ],
 "metadata": {
  "kernelspec": {
   "display_name": "Python 3",
   "language": "python",
   "name": "python3"
  },
  "language_info": {
   "codemirror_mode": {
    "name": "ipython",
    "version": 2
   },
   "file_extension": ".py",
   "mimetype": "text/x-python",
   "name": "python",
   "nbconvert_exporter": "python",
   "pygments_lexer": "ipython2",
   "version": "2.7.6"
  }
 },
 "nbformat": 4,
 "nbformat_minor": 5
}
